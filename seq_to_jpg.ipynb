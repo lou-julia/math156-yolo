{
 "cells": [
  {
   "cell_type": "code",
   "execution_count": 2,
   "id": "008bc7b2-f795-4198-8ddb-3f1982ccd134",
   "metadata": {},
   "outputs": [
    {
     "name": "stdout",
     "output_type": "stream",
     "text": [
      "Requirement already satisfied: scipy in /opt/anaconda3/lib/python3.11/site-packages (1.11.4)\n",
      "Requirement already satisfied: numpy in /opt/anaconda3/lib/python3.11/site-packages (1.26.4)\n",
      "Requirement already satisfied: opencv-python in /opt/anaconda3/lib/python3.11/site-packages (4.11.0.86)\n",
      "Requirement already satisfied: tqdm in /opt/anaconda3/lib/python3.11/site-packages (4.65.0)\n",
      "Requirement already satisfied: h5py in /opt/anaconda3/lib/python3.11/site-packages (3.9.0)\n",
      "Requirement already satisfied: numpy>=1.17.3 in /opt/anaconda3/lib/python3.11/site-packages (from h5py) (1.26.4)\n"
     ]
    }
   ],
   "source": [
    "!pip install scipy numpy opencv-python tqdm\n",
    "!pip install h5py"
   ]
  },
  {
   "cell_type": "code",
   "execution_count": 8,
   "id": "e6bae5ad-1f1f-4a30-82e4-360a4ed4704d",
   "metadata": {},
   "outputs": [
    {
     "name": "stderr",
     "output_type": "stream",
     "text": [
      "Extracting train frames: 100%|██████████████████| 71/71 [10:09<00:00,  8.58s/it]\n",
      "Extracting test frames: 100%|███████████████████| 66/66 [07:55<00:00,  7.20s/it]\n"
     ]
    }
   ],
   "source": [
    "# Converting .seq files to images\n",
    "\n",
    "import cv2\n",
    "import os\n",
    "from glob import glob\n",
    "from tqdm import tqdm\n",
    "\n",
    "base_path = \"/Users/melissachang/Desktop/data_and_labels\"\n",
    "\n",
    "train_seq_files = glob(os.path.join(base_path, \"Train\", \"set*\", \"set*\", \"V*.seq\"))\n",
    "test_seq_files = glob(os.path.join(base_path, \"Test\", \"set*\", \"set*\", \"V*.seq\"))\n",
    "\n",
    "def extract_frames_from_seq(seq_file, output_dir):\n",
    "    os.makedirs(output_dir, exist_ok=True)\n",
    "    cap = cv2.VideoCapture(seq_file)\n",
    "    count = 0\n",
    "    base_name = os.path.splitext(os.path.basename(seq_file))[0]\n",
    "    while cap.isOpened():\n",
    "        ret, frame = cap.read()\n",
    "        if not ret:\n",
    "            break\n",
    "        filename = os.path.join(output_dir, f\"{base_name}_{count:05d}.jpg\")\n",
    "        cv2.imwrite(filename, frame)\n",
    "        count += 1\n",
    "    cap.release()\n",
    "\n",
    "# Extract train\n",
    "for seq_file in tqdm(train_seq_files, desc=\"Extracting train frames\"):\n",
    "    extract_frames_from_seq(seq_file, os.path.join(base_path, \"images/Train\"))\n",
    "\n",
    "# Extract test\n",
    "for seq_file in tqdm(test_seq_files, desc=\"Extracting test frames\"):\n",
    "    extract_frames_from_seq(seq_file, os.path.join(base_path, \"images/Test\"))\n"
   ]
  },
  {
   "cell_type": "code",
   "execution_count": 12,
   "id": "b4b9faad-b954-4483-8203-cd4187a6290f",
   "metadata": {},
   "outputs": [
    {
     "name": "stdout",
     "output_type": "stream",
     "text": [
      "Found 35533 .jpg images\n",
      "First 5 image files: ['/Users/melissachang/Desktop/data_and_labels/images/Test/V015_00541.jpg', '/Users/melissachang/Desktop/data_and_labels/images/Test/V006_00479.jpg', '/Users/melissachang/Desktop/data_and_labels/images/Test/V005_01237.jpg', '/Users/melissachang/Desktop/data_and_labels/images/Test/V017_01026.jpg', '/Users/melissachang/Desktop/data_and_labels/images/Test/V007_00750.jpg']\n"
     ]
    }
   ],
   "source": [
    "# import os\n",
    "# from glob import glob\n",
    "\n",
    "# output_dir = \"/Users/melissachang/Desktop/data_and_labels/images/Test\"\n",
    "\n",
    "# # List all JPGs\n",
    "# jpg_files = glob(os.path.join(output_dir, \"*.jpg\"))\n",
    "# print(f\"Found {len(jpg_files)} .jpg images\")\n",
    "# print(\"First 5 image files:\", jpg_files[:5])"
   ]
  },
  {
   "cell_type": "code",
   "execution_count": 3,
   "id": "61e7bbd2-654e-428c-8040-e4a4cbc103f1",
   "metadata": {},
   "outputs": [],
   "source": [
    "# Parse .vbb annotation files to txt\n",
    "from scipy.io import loadmat\n",
    "import os\n",
    "label_dir=\"/Users/melissachang/Desktop/data_and_labels/labels/Train\"\n",
    "\n",
    "def parse_vbb(vbb_path):\n",
    "    mat = loadmat(vbb_path)\n",
    "    A = mat['A'][0][0]\n",
    "    obj_lists = A[1][0]\n",
    "    obj_labels = A[4][0]\n",
    "\n",
    "    label_map = [str(l[0]) for l in obj_labels]\n",
    "    frames = []\n",
    "\n",
    "    for frame_id, objs in enumerate(obj_lists):\n",
    "        bboxes = []\n",
    "        for obj in objs[0]:\n",
    "            label = label_map[obj[0][0][0] - 1]  # object ID is 1-based\n",
    "            if label != 'person':\n",
    "                continue\n",
    "            pos = obj[1][0]  # [x, y, w, h]\n",
    "            occluded = obj[3][0][0]\n",
    "            if occluded:\n",
    "                continue\n",
    "            bboxes.append(pos)  # Save [x, y, w, h]\n",
    "        frames.append(bboxes)\n",
    "    \n",
    "    return frames  # List of lists of boxes per frame\n",
    "\n",
    "# Convert boxes to YOLO format\n",
    "def convert_to_yolo(box, img_w, img_h):\n",
    "    x, y, w, h = box\n",
    "    x_center = (x + w / 2) / img_w\n",
    "    y_center = (y + h / 2) / img_h\n",
    "    w /= img_w\n",
    "    h /= img_h\n",
    "    return f\"0 {x_center:.6f} {y_center:.6f} {w:.6f} {h:.6f}\"\n",
    "\n",
    "# Writing .txt annotation files\n",
    "import cv2\n",
    "\n",
    "def write_labels(vbb_path, image_dir, label_dir):\n",
    "    os.makedirs(label_dir, exist_ok=True)\n",
    "\n",
    "    frame_boxes = parse_vbb(vbb_path)\n",
    "    vbb_name = os.path.splitext(os.path.basename(vbb_path))[0]\n",
    "\n",
    "    for i, boxes in enumerate(frame_boxes):\n",
    "        img_file = os.path.join(image_dir, f\"{vbb_name}_{i:05d}.jpg\")\n",
    "        if not os.path.exists(img_file):\n",
    "            continue\n",
    "        img = cv2.imread(img_file)\n",
    "        h, w = img.shape[:2]\n",
    "\n",
    "        label_file = os.path.join(label_dir, f\"{vbb_name}_{i:05d}.txt\")\n",
    "        with open(label_file, 'w') as f:\n",
    "            for box in boxes:\n",
    "                yolo_line = convert_to_yolo(box, w, h)\n",
    "                f.write(yolo_line + '\\n')\n",
    "        \n",
    "        # Add this to confirm it's working\n",
    "        print(f\"Wrote: {label_file}\")\n",
    "\n",
    "\n",
    "# Apply to Annotations\n",
    "from glob import glob\n",
    "\n",
    "vbb_files = glob(\"/Users/melissachang/Desktop/data_and_labels/annotations/set*/V*.vbb\")\n",
    "\n",
    "for vbb in vbb_files:\n",
    "    write_labels(\n",
    "        vbb_path=vbb,\n",
    "        image_dir=\"/Users/melissachang/Desktop/data_and_labels/images/Train\",  # or \"test\" for set06–set10\n",
    "        label_dir=\"/Users/melissachang/Desktop/data_and_labels/labels/Train\"\n",
    "    )\n",
    "\n",
    "test_vbb_files = glob(\"/Users/melissachang/Desktop/data_and_labels/annotations/set0[6-9]/V*.vbb\") + \\\n",
    "                 glob(\"/Users/melissachang/Desktop/data_and_labels/annotations/set10/V*.vbb\")\n",
    "\n",
    "for vbb in test_vbb_files:\n",
    "    write_labels(\n",
    "        vbb_path=vbb,\n",
    "        image_dir=\"/Users/melissachang/Desktop/data_and_labels/images/Test\",\n",
    "        label_dir=\"/Users/melissachang/Desktop/data_and_labels/labels/Test\"\n",
    "    )\n"
   ]
  },
  {
   "cell_type": "code",
   "execution_count": null,
   "id": "610ea908-c69b-4a3d-93a1-3097b68b539c",
   "metadata": {},
   "outputs": [],
   "source": []
  }
 ],
 "metadata": {
  "kernelspec": {
   "display_name": "Python 3 (ipykernel)",
   "language": "python",
   "name": "python3"
  },
  "language_info": {
   "codemirror_mode": {
    "name": "ipython",
    "version": 3
   },
   "file_extension": ".py",
   "mimetype": "text/x-python",
   "name": "python",
   "nbconvert_exporter": "python",
   "pygments_lexer": "ipython3",
   "version": "3.11.7"
  }
 },
 "nbformat": 4,
 "nbformat_minor": 5
}
